{
 "cells": [
  {
   "cell_type": "code",
   "execution_count": null,
   "id": "244d9fe3-19b5-4cfe-9f96-03af055d381e",
   "metadata": {},
   "outputs": [],
   "source": []
  },
  {
   "cell_type": "code",
   "execution_count": 1,
   "id": "41c612f0-b7df-4663-ae1f-7727300b705b",
   "metadata": {},
   "outputs": [
    {
     "name": "stdout",
     "output_type": "stream",
     "text": [
      "FluorescentCells.tif                  image2.tif\n",
      "Readme.md                             image3.tif\n",
      "Untitled.ipynb                        image_label_measurements.html\n",
      "Untitled1.ipynb                       image_label_measurements.ipynb\n",
      "Untitled2.ipynb                       image_label_measurements_colab.ipynb\n",
      "blobs.tif                             image_processing_basics.html\n",
      "environment.yml                       image_processing_basics.ipynb\n",
      "image1.tif                            image_processing_basics_colab.ipynb\n"
     ]
    }
   ],
   "source": [
    "ls"
   ]
  },
  {
   "cell_type": "code",
   "execution_count": 2,
   "id": "643927e6-a6b8-4a82-937c-2de539d2531f",
   "metadata": {},
   "outputs": [
    {
     "data": {
      "text/plain": [
       "'/Users/pfb2024/PFB_problemsets/imagepro/python_IP_course'"
      ]
     },
     "execution_count": 2,
     "metadata": {},
     "output_type": "execute_result"
    }
   ],
   "source": [
    "pwd"
   ]
  },
  {
   "cell_type": "code",
   "execution_count": 3,
   "id": "283f52ca-106c-437f-bb01-f220a4db9549",
   "metadata": {},
   "outputs": [
    {
     "ename": "SyntaxError",
     "evalue": "invalid syntax (18411713.py, line 1)",
     "output_type": "error",
     "traceback": [
      "\u001b[0;36m  Cell \u001b[0;32mIn[3], line 1\u001b[0;36m\u001b[0m\n\u001b[0;31m    ~/\u001b[0m\n\u001b[0m     ^\u001b[0m\n\u001b[0;31mSyntaxError\u001b[0m\u001b[0;31m:\u001b[0m invalid syntax\n"
     ]
    }
   ],
   "source": [
    "~/"
   ]
  },
  {
   "cell_type": "code",
   "execution_count": 4,
   "id": "011a4d83-e863-4b6b-b5e9-c19d524c0f6e",
   "metadata": {},
   "outputs": [
    {
     "name": "stdout",
     "output_type": "stream",
     "text": [
      "/Users/pfb2024\n"
     ]
    }
   ],
   "source": [
    "cd ~/"
   ]
  },
  {
   "cell_type": "code",
   "execution_count": 5,
   "id": "775f91b7-b47c-48b6-b07e-680ddb2e8702",
   "metadata": {},
   "outputs": [
    {
     "name": "stdout",
     "output_type": "stream",
     "text": [
      "\u001b[34mDesktop\u001b[m\u001b[m/         \u001b[34mMusic\u001b[m\u001b[m/           Untitled.ipynb   \u001b[34mmamba\u001b[m\u001b[m/\n",
      "\u001b[34mDocuments\u001b[m\u001b[m/       PFB2024-student  Untitled1.ipynb  \u001b[34mpfb2024\u001b[m\u001b[m/\n",
      "\u001b[34mDownloads\u001b[m\u001b[m/       \u001b[34mPFB_problemsets\u001b[m\u001b[m/ \u001b[34mbin\u001b[m\u001b[m/             \u001b[34mpfb_project\u001b[m\u001b[m/\n",
      "\u001b[34mLibrary\u001b[m\u001b[m/         \u001b[34mPictures\u001b[m\u001b[m/        \u001b[34mcanu-2.2\u001b[m\u001b[m/\n",
      "\u001b[34mMovies\u001b[m\u001b[m/          \u001b[34mPublic\u001b[m\u001b[m/          \u001b[31mlogging-in.md\u001b[m\u001b[m*\n"
     ]
    }
   ],
   "source": [
    "ls"
   ]
  },
  {
   "cell_type": "code",
   "execution_count": 6,
   "id": "8b07b98d-d063-4bfd-832d-17656d511aee",
   "metadata": {},
   "outputs": [
    {
     "name": "stdout",
     "output_type": "stream",
     "text": [
      "/Users/pfb2024/pfb_project\n"
     ]
    }
   ],
   "source": [
    "cd pfb_project/"
   ]
  },
  {
   "cell_type": "code",
   "execution_count": 7,
   "id": "2f8a4680-7ec9-4286-9a54-83ee0beafa9d",
   "metadata": {},
   "outputs": [
    {
     "name": "stdout",
     "output_type": "stream",
     "text": [
      "\u001b[34mPFB-LOLA-seq\u001b[m\u001b[m/\n"
     ]
    }
   ],
   "source": [
    "ls"
   ]
  },
  {
   "cell_type": "code",
   "execution_count": 8,
   "id": "8fd87028-d972-477f-968b-86acdcdb82fd",
   "metadata": {},
   "outputs": [
    {
     "name": "stdout",
     "output_type": "stream",
     "text": [
      "/Users/pfb2024/pfb_project/PFB-LOLA-seq\n"
     ]
    }
   ],
   "source": [
    "cd PFB-LOLA-seq/\n"
   ]
  },
  {
   "cell_type": "code",
   "execution_count": null,
   "id": "e4b65ba2-2274-4503-8716-4c69ef360af5",
   "metadata": {},
   "outputs": [],
   "source": []
  }
 ],
 "metadata": {
  "kernelspec": {
   "display_name": "Python 3 (ipykernel)",
   "language": "python",
   "name": "python3"
  },
  "language_info": {
   "codemirror_mode": {
    "name": "ipython",
    "version": 3
   },
   "file_extension": ".py",
   "mimetype": "text/x-python",
   "name": "python",
   "nbconvert_exporter": "python",
   "pygments_lexer": "ipython3",
   "version": "3.12.5"
  }
 },
 "nbformat": 4,
 "nbformat_minor": 5
}
